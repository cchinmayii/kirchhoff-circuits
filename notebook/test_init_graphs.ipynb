{
 "cells": [
  {
   "cell_type": "code",
   "execution_count": 1,
   "metadata": {},
   "outputs": [],
   "source": [
    "import networkx as nx\n",
    "import numpy as np\n",
    "import kirchhoff "
   ]
  },
  {
   "cell_type": "code",
   "execution_count": 2,
   "metadata": {},
   "outputs": [
    {
     "name": "stdout",
     "output_type": "stream",
     "text": [
      "Circuit(info='type: custom, #edges: 12, #nodes: 9')\n",
      "Circuit(info='type: simple, #edges: 144, #nodes: 64')\n",
      "Circuit(info='type: voronoi_volume, #edges: 283, #nodes: 166')\n"
     ]
    },
    {
     "name": "stderr",
     "output_type": "stream",
     "text": [
      "/Users/kramer/anaconda3/lib/python3.7/site-packages/numpy/core/_asarray.py:83: VisibleDeprecationWarning: Creating an ndarray from ragged nested sequences (which is a list-or-tuple of lists-or-tuples-or ndarrays with different lengths or shapes) is deprecated. If you meant to do this, you must specify 'dtype=object' when creating the ndarray\n",
      "  return array(a, dtype, copy=False, order=order)\n"
     ]
    }
   ],
   "source": [
    "import kirchhoff.circuit_init as ki\n",
    "n=3\n",
    "G=nx.grid_graph(( n,n,1))\n",
    "K = ki.Circuit(G)\n",
    "print(K)\n",
    "K = ki.initialize_circuit_from_crystal('simple',3)\n",
    "print(K)\n",
    "K = ki.initialize_circuit_from_random(random_type='voronoi_volume')\n",
    "print(K)"
   ]
  },
  {
   "cell_type": "code",
   "execution_count": 3,
   "metadata": {},
   "outputs": [
    {
     "name": "stdout",
     "output_type": "stream",
     "text": [
      "FlowCircuit(info='type: custom, #edges: 12, #nodes: 9')\n",
      "FlowCircuit(info='type: simple, #edges: 144, #nodes: 64')\n",
      "FlowCircuit(info='type: voronoi_volume, #edges: 297, #nodes: 175')\n"
     ]
    }
   ],
   "source": [
    "import kirchhoff.circuit_flow as kfc\n",
    "n=3\n",
    "G=nx.grid_graph(( n,n,1))\n",
    "K = kfc.FlowCircuit(G)\n",
    "print(K)\n",
    "K = kfc.initialize_flow_circuit_from_crystal('simple',3)\n",
    "print(K)\n",
    "K = kfc.initialize_flow_circuit_from_random(random_type='voronoi_volume')\n",
    "print(K)"
   ]
  },
  {
   "cell_type": "code",
   "execution_count": 4,
   "metadata": {},
   "outputs": [
    {
     "name": "stdout",
     "output_type": "stream",
     "text": [
      "FluxCircuit(info='type: custom, #edges: 12, #nodes: 9')\n",
      "FluxCircuit(info='type: simple, #edges: 144, #nodes: 64')\n",
      "FluxCircuit(info='type: voronoi_volume, #edges: 293, #nodes: 173')\n"
     ]
    }
   ],
   "source": [
    "import kirchhoff.circuit_flux as kfx\n",
    "n=3\n",
    "G=nx.grid_graph(( n,n,1))\n",
    "K = kfx.FluxCircuit(G)\n",
    "print(K)\n",
    "K = kfx.initialize_flux_circuit_from_crystal('simple',3)\n",
    "print(K)\n",
    "K = kfx.initialize_flux_circuit_from_random(random_type='voronoi_volume')\n",
    "print(K)"
   ]
  },
  {
   "cell_type": "code",
   "execution_count": 5,
   "metadata": {},
   "outputs": [
    {
     "name": "stdout",
     "output_type": "stream",
     "text": [
      "test from networkx\n",
      "[Circuit(info='type: custom, #edges: 12, #nodes: 9'), Circuit(info='type: custom, #edges: 12, #nodes: 9')]\n",
      "[Circuit(info='type: custom, #edges: 12, #nodes: 9'), Circuit(info='type: custom, #edges: 12, #nodes: 9')]\n",
      "[FlowCircuit(info='type: custom, #edges: 12, #nodes: 9'), FlowCircuit(info='type: custom, #edges: 12, #nodes: 9')]\n",
      "[FluxCircuit(info='type: custom, #edges: 12, #nodes: 9'), FluxCircuit(info='type: custom, #edges: 12, #nodes: 9')]\n",
      "test from catenation\n",
      "[Circuit(info='type: catenation, #edges: 10, #nodes: 8'), Circuit(info='type: catenation, #edges: 13, #nodes: 10')]\n",
      "[Circuit(info='type: catenation, #edges: 10, #nodes: 8'), Circuit(info='type: catenation, #edges: 13, #nodes: 10')]\n",
      "[FlowCircuit(info='type: catenation, #edges: 10, #nodes: 8'), FlowCircuit(info='type: catenation, #edges: 13, #nodes: 10')]\n",
      "[FluxCircuit(info='type: catenation, #edges: 10, #nodes: 8'), FluxCircuit(info='type: catenation, #edges: 13, #nodes: 10')]\n",
      "test from minsurf\n",
      "[Circuit(info='type: simple, #edges: 36, #nodes: 32'), Circuit(info='type: simple, #edges: 54, #nodes: 27')]\n",
      "[Circuit(info='type: simple, #edges: 36, #nodes: 32'), Circuit(info='type: simple, #edges: 54, #nodes: 27')]\n",
      "[FlowCircuit(info='type: simple, #edges: 36, #nodes: 32'), FlowCircuit(info='type: simple, #edges: 54, #nodes: 27')]\n",
      "[FluxCircuit(info='type: simple, #edges: 36, #nodes: 32'), FluxCircuit(info='type: simple, #edges: 54, #nodes: 27')]\n"
     ]
    }
   ],
   "source": [
    "from kirchhoff.circuit_init import Circuit\n",
    "from kirchhoff.circuit_flow import FlowCircuit\n",
    "from kirchhoff.circuit_flux import FluxCircuit\n",
    "import kirchhoff.circuit_dual as kid\n",
    "\n",
    "circuitConstructor = {\n",
    "    'default' : Circuit,\n",
    "    'circuit' : Circuit,\n",
    "    'flow' : FlowCircuit,\n",
    "    'flux' : FluxCircuit,\n",
    "    }\n",
    "\n",
    "print('test from networkx')\n",
    "n=3\n",
    "G=nx.grid_graph(( n,n,1))\n",
    "\n",
    "for k, constr in circuitConstructor.items():\n",
    "    \n",
    "    circuitSet = [constr(G), constr(G)]\n",
    "    K = kid.DualCircuit(circuitSet)\n",
    "    print(K.layer)\n",
    "    \n",
    "print('test from catenation')\n",
    "for k, constr in circuitConstructor.items():\n",
    "   \n",
    "    K = kid.initialize_dual_from_catenation(k, 'catenation', 3)\n",
    "    print(K.layer)\n",
    "    \n",
    "print('test from minsurf')\n",
    "for k, constr in circuitConstructor.items():\n",
    "   \n",
    "    K = kid.initialize_dual_from_minsurf(k, 'simple', 3)\n",
    "    print(K.layer)"
   ]
  },
  {
   "cell_type": "code",
   "execution_count": 6,
   "metadata": {},
   "outputs": [
    {
     "data": {
      "text/plain": [
       "'type: simple, #edges: 54, #nodes: 27'"
      ]
     },
     "execution_count": 6,
     "metadata": {},
     "output_type": "execute_result"
    }
   ],
   "source": []
  },
  {
   "cell_type": "code",
   "execution_count": null,
   "metadata": {},
   "outputs": [],
   "source": []
  }
 ],
 "metadata": {
  "kernelspec": {
   "display_name": "Python 3",
   "language": "python",
   "name": "python3"
  },
  "language_info": {
   "codemirror_mode": {
    "name": "ipython",
    "version": 3
   },
   "file_extension": ".py",
   "mimetype": "text/x-python",
   "name": "python",
   "nbconvert_exporter": "python",
   "pygments_lexer": "ipython3",
   "version": "3.7.3"
  }
 },
 "nbformat": 4,
 "nbformat_minor": 4
}
